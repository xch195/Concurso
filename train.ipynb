{
 "cells": [
  {
   "cell_type": "code",
   "execution_count": 1,
   "id": "96d5ff9b",
   "metadata": {},
   "outputs": [],
   "source": [
    "import pandas as pd"
   ]
  },
  {
   "cell_type": "code",
   "execution_count": 40,
   "id": "fb31eb2f",
   "metadata": {},
   "outputs": [
    {
     "data": {
      "text/html": [
       "<div>\n",
       "<style scoped>\n",
       "    .dataframe tbody tr th:only-of-type {\n",
       "        vertical-align: middle;\n",
       "    }\n",
       "\n",
       "    .dataframe tbody tr th {\n",
       "        vertical-align: top;\n",
       "    }\n",
       "\n",
       "    .dataframe thead th {\n",
       "        text-align: right;\n",
       "    }\n",
       "</style>\n",
       "<table border=\"1\" class=\"dataframe\">\n",
       "  <thead>\n",
       "    <tr style=\"text-align: right;\">\n",
       "      <th></th>\n",
       "      <th>CAMPAÑA</th>\n",
       "      <th>ID_FINCA</th>\n",
       "      <th>ID_ZONA</th>\n",
       "      <th>ID_ESTACION</th>\n",
       "      <th>ALTITUD</th>\n",
       "      <th>VARIEDAD</th>\n",
       "      <th>MODO</th>\n",
       "      <th>TIPO</th>\n",
       "      <th>COLOR</th>\n",
       "      <th>SUPERFICIE</th>\n",
       "      <th>PRODUCCION</th>\n",
       "    </tr>\n",
       "  </thead>\n",
       "  <tbody>\n",
       "    <tr>\n",
       "      <th>0</th>\n",
       "      <td>14</td>\n",
       "      <td>76953</td>\n",
       "      <td>515</td>\n",
       "      <td>4</td>\n",
       "      <td>660</td>\n",
       "      <td>26</td>\n",
       "      <td>2</td>\n",
       "      <td>0</td>\n",
       "      <td>1</td>\n",
       "      <td>0.0000</td>\n",
       "      <td>22215.0</td>\n",
       "    </tr>\n",
       "    <tr>\n",
       "      <th>1</th>\n",
       "      <td>14</td>\n",
       "      <td>84318</td>\n",
       "      <td>515</td>\n",
       "      <td>4</td>\n",
       "      <td>660</td>\n",
       "      <td>26</td>\n",
       "      <td>2</td>\n",
       "      <td>0</td>\n",
       "      <td>1</td>\n",
       "      <td>0.0000</td>\n",
       "      <td>22215.0</td>\n",
       "    </tr>\n",
       "    <tr>\n",
       "      <th>2</th>\n",
       "      <td>14</td>\n",
       "      <td>85579</td>\n",
       "      <td>340</td>\n",
       "      <td>4</td>\n",
       "      <td>520</td>\n",
       "      <td>32</td>\n",
       "      <td>2</td>\n",
       "      <td>0</td>\n",
       "      <td>1</td>\n",
       "      <td>0.0000</td>\n",
       "      <td>20978.0</td>\n",
       "    </tr>\n",
       "    <tr>\n",
       "      <th>3</th>\n",
       "      <td>14</td>\n",
       "      <td>69671</td>\n",
       "      <td>340</td>\n",
       "      <td>4</td>\n",
       "      <td>520</td>\n",
       "      <td>32</td>\n",
       "      <td>2</td>\n",
       "      <td>0</td>\n",
       "      <td>1</td>\n",
       "      <td>0.0000</td>\n",
       "      <td>40722.0</td>\n",
       "    </tr>\n",
       "    <tr>\n",
       "      <th>4</th>\n",
       "      <td>14</td>\n",
       "      <td>14001</td>\n",
       "      <td>852</td>\n",
       "      <td>14</td>\n",
       "      <td>NaN</td>\n",
       "      <td>81</td>\n",
       "      <td>1</td>\n",
       "      <td>0</td>\n",
       "      <td>1</td>\n",
       "      <td>0.0000</td>\n",
       "      <td>14126.0</td>\n",
       "    </tr>\n",
       "    <tr>\n",
       "      <th>...</th>\n",
       "      <td>...</td>\n",
       "      <td>...</td>\n",
       "      <td>...</td>\n",
       "      <td>...</td>\n",
       "      <td>...</td>\n",
       "      <td>...</td>\n",
       "      <td>...</td>\n",
       "      <td>...</td>\n",
       "      <td>...</td>\n",
       "      <td>...</td>\n",
       "      <td>...</td>\n",
       "    </tr>\n",
       "    <tr>\n",
       "      <th>9596</th>\n",
       "      <td>22</td>\n",
       "      <td>37461</td>\n",
       "      <td>239</td>\n",
       "      <td>6</td>\n",
       "      <td>700</td>\n",
       "      <td>52</td>\n",
       "      <td>2</td>\n",
       "      <td>0</td>\n",
       "      <td>1</td>\n",
       "      <td>3.6800</td>\n",
       "      <td>NaN</td>\n",
       "    </tr>\n",
       "    <tr>\n",
       "      <th>9597</th>\n",
       "      <td>22</td>\n",
       "      <td>58769</td>\n",
       "      <td>239</td>\n",
       "      <td>6</td>\n",
       "      <td>700</td>\n",
       "      <td>32</td>\n",
       "      <td>2</td>\n",
       "      <td>0</td>\n",
       "      <td>1</td>\n",
       "      <td>4.2500</td>\n",
       "      <td>NaN</td>\n",
       "    </tr>\n",
       "    <tr>\n",
       "      <th>9598</th>\n",
       "      <td>22</td>\n",
       "      <td>58769</td>\n",
       "      <td>239</td>\n",
       "      <td>6</td>\n",
       "      <td>700</td>\n",
       "      <td>59</td>\n",
       "      <td>2</td>\n",
       "      <td>0</td>\n",
       "      <td>1</td>\n",
       "      <td>4.0700</td>\n",
       "      <td>NaN</td>\n",
       "    </tr>\n",
       "    <tr>\n",
       "      <th>9599</th>\n",
       "      <td>22</td>\n",
       "      <td>88928</td>\n",
       "      <td>239</td>\n",
       "      <td>6</td>\n",
       "      <td>700</td>\n",
       "      <td>40</td>\n",
       "      <td>2</td>\n",
       "      <td>0</td>\n",
       "      <td>1</td>\n",
       "      <td>4.5727</td>\n",
       "      <td>NaN</td>\n",
       "    </tr>\n",
       "    <tr>\n",
       "      <th>9600</th>\n",
       "      <td>22</td>\n",
       "      <td>88928</td>\n",
       "      <td>239</td>\n",
       "      <td>6</td>\n",
       "      <td>700</td>\n",
       "      <td>52</td>\n",
       "      <td>2</td>\n",
       "      <td>0</td>\n",
       "      <td>1</td>\n",
       "      <td>1.6099</td>\n",
       "      <td>NaN</td>\n",
       "    </tr>\n",
       "  </tbody>\n",
       "</table>\n",
       "<p>9601 rows × 11 columns</p>\n",
       "</div>"
      ],
      "text/plain": [
       "      CAMPAÑA  ID_FINCA  ID_ZONA  ID_ESTACION ALTITUD  VARIEDAD  MODO  TIPO  \\\n",
       "0          14     76953      515            4     660        26     2     0   \n",
       "1          14     84318      515            4     660        26     2     0   \n",
       "2          14     85579      340            4     520        32     2     0   \n",
       "3          14     69671      340            4     520        32     2     0   \n",
       "4          14     14001      852           14     NaN        81     1     0   \n",
       "...       ...       ...      ...          ...     ...       ...   ...   ...   \n",
       "9596       22     37461      239            6     700        52     2     0   \n",
       "9597       22     58769      239            6     700        32     2     0   \n",
       "9598       22     58769      239            6     700        59     2     0   \n",
       "9599       22     88928      239            6     700        40     2     0   \n",
       "9600       22     88928      239            6     700        52     2     0   \n",
       "\n",
       "      COLOR  SUPERFICIE  PRODUCCION  \n",
       "0         1      0.0000     22215.0  \n",
       "1         1      0.0000     22215.0  \n",
       "2         1      0.0000     20978.0  \n",
       "3         1      0.0000     40722.0  \n",
       "4         1      0.0000     14126.0  \n",
       "...     ...         ...         ...  \n",
       "9596      1      3.6800         NaN  \n",
       "9597      1      4.2500         NaN  \n",
       "9598      1      4.0700         NaN  \n",
       "9599      1      4.5727         NaN  \n",
       "9600      1      1.6099         NaN  \n",
       "\n",
       "[9601 rows x 11 columns]"
      ]
     },
     "execution_count": 40,
     "metadata": {},
     "output_type": "execute_result"
    }
   ],
   "source": [
    "train = pd.read_table(\"UH_2023_TRAIN.txt\", delimiter=\"|\")\n",
    "train"
   ]
  },
  {
   "cell_type": "code",
   "execution_count": 14,
   "id": "814add01",
   "metadata": {},
   "outputs": [
    {
     "data": {
      "text/plain": [
       "(9601, 11)"
      ]
     },
     "execution_count": 14,
     "metadata": {},
     "output_type": "execute_result"
    }
   ],
   "source": [
    "train.shape"
   ]
  },
  {
   "cell_type": "code",
   "execution_count": 24,
   "id": "45420f44",
   "metadata": {},
   "outputs": [
    {
     "name": "stdout",
     "output_type": "stream",
     "text": [
      "lista de variedad: [4, 8, 9, 10, 15, 17, 23, 26, 32, 38, 40, 43, 48, 52, 55, 59, 62, 65, 68, 71, 81, 84, 87, 92, 94]\n",
      "total variedad: 25\n"
     ]
    }
   ],
   "source": [
    "print(\"lista de variedad:\",list(set(list(train['VARIEDAD'])))) #tipo de variedad\n",
    "total_variedad = train['VARIEDAD'].value_counts().count() #total tipo de variedad\n",
    "print(\"total variedad:\", total_variedad)"
   ]
  },
  {
   "cell_type": "code",
   "execution_count": 37,
   "id": "98b55bd7",
   "metadata": {},
   "outputs": [
    {
     "name": "stdout",
     "output_type": "stream",
     "text": [
      "lista de estacion: [0, 1, 2, 3, 4, 5, 6, 7, 8, 9, 10, 11, 12, 13, 14, 15, 16, 17, 18, 19]\n",
      "total estacion: 20\n"
     ]
    }
   ],
   "source": [
    "print(\"lista de estacion:\",list(set(list(train['ID_ESTACION'])))) #tipo de variedad\n",
    "total_estacion = train['ID_ESTACION'].value_counts().count() #total tipo de variedad\n",
    "print(\"total estacion:\", total_estacion)"
   ]
  },
  {
   "cell_type": "code",
   "execution_count": 34,
   "id": "48dcc339",
   "metadata": {},
   "outputs": [
    {
     "name": "stdout",
     "output_type": "stream",
     "text": [
      "Producción media: 9209.19\n"
     ]
    }
   ],
   "source": [
    "media_produccion = train['PRODUCCION'].mean()\n",
    "print(\"Producción media:\", round(media_produccion, 2))"
   ]
  },
  {
   "cell_type": "code",
   "execution_count": null,
   "id": "60fe6f10",
   "metadata": {},
   "outputs": [],
   "source": [
    "matrix = train[,].corr()\n",
    "print(\"Correlation matrix is : \")\n",
    "print(matrix)"
   ]
  }
 ],
 "metadata": {
  "kernelspec": {
   "display_name": "Python 3 (ipykernel)",
   "language": "python",
   "name": "python3"
  },
  "language_info": {
   "codemirror_mode": {
    "name": "ipython",
    "version": 3
   },
   "file_extension": ".py",
   "mimetype": "text/x-python",
   "name": "python",
   "nbconvert_exporter": "python",
   "pygments_lexer": "ipython3",
   "version": "3.10.8"
  }
 },
 "nbformat": 4,
 "nbformat_minor": 5
}
